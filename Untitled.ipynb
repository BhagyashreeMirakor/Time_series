{
 "cells": [
  {
   "cell_type": "markdown",
   "id": "e08f661c",
   "metadata": {},
   "source": [
    "Time series: it is set of observations/datapoints taken at specified times usually at equal interval."
   ]
  },
  {
   "cell_type": "markdown",
   "id": "988e4088",
   "metadata": {},
   "source": [
    "# IMportance"
   ]
  },
  {
   "cell_type": "markdown",
   "id": "c4ae9bc8",
   "metadata": {},
   "source": [
    "Business Forecasting:\n",
    "not limited finance domain.\n",
    "it is applicable"
   ]
  },
  {
   "cell_type": "markdown",
   "id": "e9b1e2e3",
   "metadata": {},
   "source": [
    "Understand Past data/  behaviour"
   ]
  },
  {
   "cell_type": "markdown",
   "id": "feb2b804",
   "metadata": {},
   "source": [
    "plan fututre"
   ]
  },
  {
   "cell_type": "markdown",
   "id": "5afd1a02",
   "metadata": {},
   "source": [
    "Evalute current acomplishments"
   ]
  },
  {
   "cell_type": "markdown",
   "id": "ad730738",
   "metadata": {},
   "source": [
    "# Components of time series"
   ]
  },
  {
   "cell_type": "code",
   "execution_count": null,
   "id": "a89eb5d4",
   "metadata": {},
   "outputs": [],
   "source": [
    "Trend"
   ]
  },
  {
   "cell_type": "markdown",
   "id": "f85a06b6",
   "metadata": {},
   "source": [
    "Seasonity\n"
   ]
  },
  {
   "cell_type": "code",
   "execution_count": null,
   "id": "f479406b",
   "metadata": {},
   "outputs": [],
   "source": [
    "Irregularity"
   ]
  },
  {
   "cell_type": "code",
   "execution_count": null,
   "id": "46e0fc4d",
   "metadata": {},
   "outputs": [],
   "source": [
    "Cyclic"
   ]
  },
  {
   "cell_type": "markdown",
   "id": "e4d23be7",
   "metadata": {},
   "source": [
    "# WHen not to use TSA"
   ]
  },
  {
   "cell_type": "markdown",
   "id": "2469c1bd",
   "metadata": {},
   "source": [
    "intervals are not eqaul"
   ]
  },
  {
   "cell_type": "code",
   "execution_count": null,
   "id": "2c5eae2f",
   "metadata": {},
   "outputs": [],
   "source": [
    "values are constant"
   ]
  },
  {
   "cell_type": "markdown",
   "id": "db14b568",
   "metadata": {},
   "source": [
    "# Stationarity"
   ]
  },
  {
   "cell_type": "code",
   "execution_count": null,
   "id": "15d5e94b",
   "metadata": {},
   "outputs": [],
   "source": [
    "tS requires the data to be stationary"
   ]
  },
  {
   "cell_type": "code",
   "execution_count": null,
   "id": "b3b13c13",
   "metadata": {},
   "outputs": [],
   "source": [
    "h0= null hypothesis 95% data is non stationary \n",
    "h1= alternate 5% so rdata is stationary"
   ]
  },
  {
   "cell_type": "markdown",
   "id": "2c75d3a4",
   "metadata": {},
   "source": [
    "# To check stationarity"
   ]
  },
  {
   "cell_type": "code",
   "execution_count": null,
   "id": "e0310012",
   "metadata": {},
   "outputs": [],
   "source": [
    "1. rolling statistics\n",
    "2. ADCF test( Augmented Dickey Fuller Test)"
   ]
  },
  {
   "cell_type": "markdown",
   "id": "65d09108",
   "metadata": {},
   "source": [
    "# HOw to make data stationary"
   ]
  },
  {
   "cell_type": "code",
   "execution_count": null,
   "id": "fa844b17",
   "metadata": {},
   "outputs": [],
   "source": [
    "1.differencing\n",
    "2. log transform\n",
    "3.sqrt\n",
    "4. cubrt"
   ]
  },
  {
   "cell_type": "code",
   "execution_count": null,
   "id": "6368a8ff",
   "metadata": {},
   "outputs": [],
   "source": [
    "acf, pacf"
   ]
  },
  {
   "cell_type": "code",
   "execution_count": null,
   "id": "565f6271",
   "metadata": {},
   "outputs": [],
   "source": [
    "p= autoregressive lags = PACF== AR\n",
    "d = order of defference = deiffernecing ==Integreation\n",
    "q =moving avg =ACF== MA"
   ]
  },
  {
   "cell_type": "code",
   "execution_count": null,
   "id": "08a3238d",
   "metadata": {},
   "outputs": [],
   "source": [
    "AR I MA"
   ]
  },
  {
   "cell_type": "code",
   "execution_count": null,
   "id": "2c505cd8",
   "metadata": {},
   "outputs": [],
   "source": []
  }
 ],
 "metadata": {
  "kernelspec": {
   "display_name": "Python 3",
   "language": "python",
   "name": "python3"
  },
  "language_info": {
   "codemirror_mode": {
    "name": "ipython",
    "version": 3
   },
   "file_extension": ".py",
   "mimetype": "text/x-python",
   "name": "python",
   "nbconvert_exporter": "python",
   "pygments_lexer": "ipython3",
   "version": "3.8.8"
  }
 },
 "nbformat": 4,
 "nbformat_minor": 5
}
